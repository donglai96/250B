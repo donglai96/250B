{
 "cells": [
  {
   "cell_type": "code",
   "execution_count": 17,
   "metadata": {},
   "outputs": [
    {
     "name": "stdout",
     "output_type": "stream",
     "text": [
      "1758820.023602124 rad / s\n",
      "5641460.227179414 rad / s\n",
      "-93.09265850596047 114.75628088588974 -1028.382352590448\n"
     ]
    }
   ],
   "source": [
    "import numpy as np\n",
    "import matplotlib.pyplot as plt\n",
    "from astropy import units as u\n",
    "from plasmapy.physics.dielectric import (cold_plasma_permittivity_SDP,\n",
    "                                         cold_plasma_permittivity_LRP)\n",
    "from plasmapy.physics import parameters\n",
    "from sympy import *\n",
    "import math\n",
    "from astropy import constants as const\n",
    "species = ['e','p']\n",
    "B = 1e-5 * u.T\n",
    "n = [1e10*u.m**-3, 1e10*u.m**-3]\n",
    "gyro_frequency = parameters.gyrofrequency(B,'e')\n",
    "plasmafrequency = parameters.plasma_frequency(1e10*u.m**-3)\n",
    "print(gyro_frequency)\n",
    "print(plasmafrequency)\n",
    "frequency_wave = 0.1 * gyro_frequency\n",
    "L,R,P = cold_plasma_permittivity_LRP(B,species, n , frequency_wave)\n",
    "print(L,R,P)"
   ]
  },
  {
   "cell_type": "code",
   "execution_count": 26,
   "metadata": {},
   "outputs": [
    {
     "name": "stdout",
     "output_type": "stream",
     "text": [
      "1704.50901159298*k\n"
     ]
    }
   ],
   "source": [
    "k_wave = symbols('k')\n",
    "k_unit = (u.rad/u.m)*const.c/frequency_wave \n",
    "# \n",
    "nn = k_wave * k_unit \n",
    "# nn is refraction index n = kc/omega\n",
    "print(nn)"
   ]
  },
  {
   "cell_type": "code",
   "execution_count": null,
   "metadata": {},
   "outputs": [],
   "source": []
  }
 ],
 "metadata": {
  "kernelspec": {
   "display_name": "Python 3",
   "language": "python",
   "name": "python3"
  },
  "language_info": {
   "codemirror_mode": {
    "name": "ipython",
    "version": 3
   },
   "file_extension": ".py",
   "mimetype": "text/x-python",
   "name": "python",
   "nbconvert_exporter": "python",
   "pygments_lexer": "ipython3",
   "version": "3.7.3"
  }
 },
 "nbformat": 4,
 "nbformat_minor": 4
}
