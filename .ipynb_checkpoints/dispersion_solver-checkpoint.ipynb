{
 "cells": [
  {
   "cell_type": "code",
   "execution_count": 29,
   "metadata": {},
   "outputs": [
    {
     "name": "stdout",
     "output_type": "stream",
     "text": [
      "1758820.023602124 rad / s\n",
      "5641460.227179414 rad / s\n",
      "-93.09265850596047 114.75628088588974 -1028.382352590448\n"
     ]
    }
   ],
   "source": [
    "import numpy as np\n",
    "import matplotlib.pyplot as plt\n",
    "from astropy import units as u\n",
    "from plasmapy.physics.dielectric import (cold_plasma_permittivity_SDP,\n",
    "                                         cold_plasma_permittivity_LRP)\n",
    "from plasmapy.physics import parameters\n",
    "from sympy import *\n",
    "import math\n",
    "from astropy import constants as const\n",
    "species = ['e','p']\n",
    "B = 1e-5 * u.T\n",
    "n = [1e10*u.m**-3, 1e10*u.m**-3]\n",
    "gyro_frequency = parameters.gyrofrequency(B,'e')\n",
    "plasmafrequency = parameters.plasma_frequency(1e10*u.m**-3)\n",
    "print(gyro_frequency)\n",
    "print(plasmafrequency)\n",
    "frequency_wave = 0.1 * gyro_frequency\n",
    "L,R,P = cold_plasma_permittivity_LRP(B,species, n , frequency_wave)\n",
    "print(L,R,P)"
   ]
  },
  {
   "cell_type": "code",
   "execution_count": 30,
   "metadata": {},
   "outputs": [
    {
     "name": "stdout",
     "output_type": "stream",
     "text": [
      "1704.50901159298*k\n"
     ]
    }
   ],
   "source": [
    "k_wave = symbols('k')\n",
    "\n",
    "k_unit = (u.rad/u.m)*const.c/frequency_wave \n",
    "# \n",
    "nn = k_wave * k_unit \n",
    "\n",
    "# nn is refraction index n = kc/omega\n",
    "print(nn)"
   ]
  },
  {
   "cell_type": "code",
   "execution_count": 31,
   "metadata": {},
   "outputs": [],
   "source": [
    "def dispersion_order0(L,R,P,nn,theta):\n",
    "    theta_rad = theta *np.pi/180\n",
    "    \n",
    "    m_11 = 2*(R - nn**2 +0.5*nn*2*(math.sin(theta_rad))**2)   \n",
    "    m_12 = nn**2 *math.sin(theta_rad)**2\n",
    "    m_13 = nn**2 *math.cos(theta_rad)*math.sin(theta_rad)\n",
    "    m_21 = m_12\n",
    "    m_22 = 2*(L - nn**2 +0.5*nn*2*(math.sin(theta_rad))**2)\n",
    "    m_23 = m_13\n",
    "    m_31 = m_13\n",
    "    m_32 = m_13\n",
    "    m_33 = P - nn**2 *(math.sin(theta_rad)**2)\n",
    "    \n",
    "    D_0 = Matrix([[m_11,m_12,m_13],[m_21,m_22,m_23],[m_31,m_32,m_33]])\n",
    "    return D_0\n",
    "    \n",
    "    \n",
    "\n",
    "    \n",
    "            \n",
    "                       "
   ]
  },
  {
   "cell_type": "code",
   "execution_count": 36,
   "metadata": {},
   "outputs": [
    {
     "name": "stdout",
     "output_type": "stream",
     "text": [
      "2.29914883571303e+18*k**6 - 527566516398.508*k**4*(-726337.74265042*k**2 - 1028.38235259045) - 1582699549195.52*k**4*(-5810701.94120336*k**2 + 852.25450579649*k - 186.185317011921) - 1582699549195.52*k**4*(-5810701.94120336*k**2 + 852.25450579649*k + 229.512561771779) + (-726337.74265042*k**2 - 1028.38235259045)*(-5810701.94120336*k**2 + 852.25450579649*k - 186.185317011921)*(-5810701.94120336*k**2 + 852.25450579649*k + 229.512561771779)\n"
     ]
    }
   ],
   "source": [
    "D_0 = dispersion_order0(L.value,R.value,P.value,nn,30)\n",
    "print(D_0.det())"
   ]
  },
  {
   "cell_type": "code",
   "execution_count": null,
   "metadata": {},
   "outputs": [],
   "source": []
  }
 ],
 "metadata": {
  "kernelspec": {
   "display_name": "Python 3",
   "language": "python",
   "name": "python3"
  },
  "language_info": {
   "codemirror_mode": {
    "name": "ipython",
    "version": 3
   },
   "file_extension": ".py",
   "mimetype": "text/x-python",
   "name": "python",
   "nbconvert_exporter": "python",
   "pygments_lexer": "ipython3",
   "version": "3.7.3"
  }
 },
 "nbformat": 4,
 "nbformat_minor": 4
}
