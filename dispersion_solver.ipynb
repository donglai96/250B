{
 "cells": [
  {
   "cell_type": "code",
   "execution_count": 45,
   "metadata": {},
   "outputs": [
    {
     "name": "stdout",
     "output_type": "stream",
     "text": [
      "1758820.023602124 rad / s\n",
      "5641460.227179414 rad / s\n",
      "-93.09265850596047 114.75628088588974 -1028.382352590448\n"
     ]
    }
   ],
   "source": [
    "import numpy as np\n",
    "import matplotlib.pyplot as plt\n",
    "from astropy import units as u\n",
    "from plasmapy.physics.dielectric import (cold_plasma_permittivity_SDP,\n",
    "                                         cold_plasma_permittivity_LRP)\n",
    "from plasmapy.physics import parameters\n",
    "from sympy import *\n",
    "import math\n",
    "from astropy import constants as const\n",
    "from scipy import optimize\n",
    "import scipy.special as spl\n",
    "species = ['e','p']\n",
    "B = 1e-5 * u.T\n",
    "n = [1e10*u.m**-3, 1e10*u.m**-3]\n",
    "gyro_frequency = parameters.gyrofrequency(B,'e')\n",
    "plasmafrequency = parameters.plasma_frequency(1e10*u.m**-3)\n",
    "print(gyro_frequency)\n",
    "print(plasmafrequency)\n",
    "frequency_wave = 0.1 * gyro_frequency\n",
    "L,R,P = cold_plasma_permittivity_LRP(B,species, n , frequency_wave)\n",
    "print(L,R,P)"
   ]
  },
  {
   "cell_type": "code",
   "execution_count": 46,
   "metadata": {},
   "outputs": [
    {
     "name": "stdout",
     "output_type": "stream",
     "text": [
      "1704.50901159298*k\n"
     ]
    }
   ],
   "source": [
    "k_wave = symbols('k')\n",
    "\n",
    "k_unit = (u.rad/u.m)*const.c/frequency_wave \n",
    "# \n",
    "nn = k_wave * k_unit \n",
    "\n",
    "# nn is refraction index n = kc/omega\n",
    "print(nn)"
   ]
  },
  {
   "cell_type": "code",
   "execution_count": 47,
   "metadata": {},
   "outputs": [],
   "source": [
    "def dispersion_order0(L,R,P,nn,theta):\n",
    "    theta_rad = theta *np.pi/180\n",
    "    \n",
    "    m_11 = 2*(R - nn**2 +0.5*nn**2*(math.sin(theta_rad))**2)   \n",
    "    m_12 = nn**2 *math.sin(theta_rad)**2\n",
    "    m_13 = nn**2 *math.cos(theta_rad)*math.sin(theta_rad)\n",
    "    m_21 = m_12\n",
    "    m_22 = 2*(L - nn**2 +0.5*nn**2*(math.sin(theta_rad))**2)\n",
    "    m_23 = m_13\n",
    "    m_31 = m_13\n",
    "    m_32 = m_13\n",
    "    m_33 = P - nn**2 *(math.sin(theta_rad)**2)\n",
    "    \n",
    "    D_0 = Matrix([[m_11,m_12,m_13],[m_21,m_22,m_23],[m_31,m_32,m_33]])\n",
    "    return D_0\n",
    "    \n",
    "    \n",
    "\n",
    "    \n",
    "            \n",
    "                       "
   ]
  },
  {
   "cell_type": "code",
   "execution_count": 48,
   "metadata": {},
   "outputs": [
    {
     "name": "stdout",
     "output_type": "stream",
     "text": [
      "2.29914883571303e+18*k**6 - 1582699549195.52*k**4*(229.512561771779 - 5084364.19855294*k**2) - 1582699549195.52*k**4*(-5084364.19855294*k**2 - 186.185317011921) - 527566516398.508*k**4*(-726337.74265042*k**2 - 1028.38235259045) + (229.512561771779 - 5084364.19855294*k**2)*(-5084364.19855294*k**2 - 186.185317011921)*(-726337.74265042*k**2 - 1028.38235259045)\n"
     ]
    }
   ],
   "source": [
    "D_0 = dispersion_order0(L.value,R.value,P.value,nn,30)\n",
    "print(D_0.det())"
   ]
  },
  {
   "cell_type": "code",
   "execution_count": 49,
   "metadata": {},
   "outputs": [
    {
     "name": "stdout",
     "output_type": "stream",
     "text": [
      "-2.59504925591961e+16*k**4 + 257581652200.596*k**2 + 43944700.0465386\n",
      "[134.843561193262 134.843561193262 -106.005376271605 -106.005376271605]\n"
     ]
    }
   ],
   "source": [
    "# Solve the det(D_0) = 0\n",
    "print(simplify(D_0.det()))\n",
    "kk = solve(simplify(D_0.det()))\n",
    "nn_solve = kk* k_unit\n",
    "\n",
    "print(nn_solve*nn_solve)\n"
   ]
  },
  {
   "cell_type": "code",
   "execution_count": 55,
   "metadata": {},
   "outputs": [
    {
     "data": {
      "image/png": "[encoded data removed]",
      "text/plain": [
       "<Figure size 432x288 with 1 Axes>"
      ]
     },
     "metadata": {
      "needs_background": "light"
     },
     "output_type": "display_data"
    }
   ],
   "source": [
    "# test for Bessel\n",
    "x = np.linspace(0,10,500)\n",
    "y_0 = spl.jv(0,x)\n",
    "y_3 = spl.jv(10,x)\n",
    "plt.plot(x,y_0,x,y_3,'-')\n",
    "plt.show()\n",
    "\n"
   ]
  },
  {
   "cell_type": "code",
   "execution_count": null,
   "metadata": {},
   "outputs": [],
   "source": [
    "# test the range of k_parall"
   ]
  }
 ],
 "metadata": {
  "kernelspec": {
   "display_name": "Python 3",
   "language": "python",
   "name": "python3"
  },
  "language_info": {
   "codemirror_mode": {
    "name": "ipython",
    "version": 3
   },
   "file_extension": ".py",
   "mimetype": "text/x-python",
   "name": "python",
   "nbconvert_exporter": "python",
   "pygments_lexer": "ipython3",
   "version": "3.7.3"
  }
 },
 "nbformat": 4,
 "nbformat_minor": 4
}
