{
 "cells": [
  {
   "cell_type": "code",
   "execution_count": 1,
   "metadata": {},
   "outputs": [
    {
     "name": "stdout",
     "output_type": "stream",
     "text": [
      "1758820.023602124 rad / s\n",
      "5641460.227179414 rad / s\n",
      "-93.09265850596047 114.75628088588974 -1028.382352590448\n"
     ]
    }
   ],
   "source": [
    "import numpy as np\n",
    "import matplotlib.pyplot as plt\n",
    "from astropy import units as u\n",
    "from plasmapy.physics.dielectric import (cold_plasma_permittivity_SDP,\n",
    "                                         cold_plasma_permittivity_LRP)\n",
    "from plasmapy.physics import parameters\n",
    "from sympy import *\n",
    "import math\n",
    "from astropy import constants as const\n",
    "from scipy import optimize\n",
    "import scipy.special as spl\n",
    "species = ['e','p']\n",
    "B = 1e-5 * u.T\n",
    "n = [1e10*u.m**-3, 1e10*u.m**-3]\n",
    "gyro_frequency = parameters.gyrofrequency(B,'e')\n",
    "plasmafrequency = parameters.plasma_frequency(1e10*u.m**-3)\n",
    "print(gyro_frequency)\n",
    "print(plasmafrequency)\n",
    "frequency_wave = 0.1 * gyro_frequency\n",
    "L,R,P = cold_plasma_permittivity_LRP(B,species, n , frequency_wave)\n",
    "print(L,R,P)"
   ]
  },
  {
   "cell_type": "code",
   "execution_count": 2,
   "metadata": {},
   "outputs": [
    {
     "name": "stdout",
     "output_type": "stream",
     "text": [
      "1704.50901159298*k\n"
     ]
    }
   ],
   "source": [
    "k_wave = symbols('k')\n",
    "\n",
    "k_unit = (u.rad/u.m)*const.c/frequency_wave \n",
    "# \n",
    "nn = k_wave * k_unit \n",
    "\n",
    "# nn is refraction index n = kc/omega\n",
    "print(nn)"
   ]
  },
  {
   "cell_type": "code",
   "execution_count": 3,
   "metadata": {},
   "outputs": [],
   "source": [
    "def dispersion_order0(L,R,P,nn,theta):\n",
    "    theta_rad = theta *np.pi/180\n",
    "    \n",
    "    m_11 = 2*(R - nn**2 +0.5*nn**2*(math.sin(theta_rad))**2)   \n",
    "    m_12 = nn**2 *math.sin(theta_rad)**2\n",
    "    m_13 = nn**2 *math.cos(theta_rad)*math.sin(theta_rad)\n",
    "    m_21 = m_12\n",
    "    m_22 = 2*(L - nn**2 +0.5*nn**2*(math.sin(theta_rad))**2)\n",
    "    m_23 = m_13\n",
    "    m_31 = m_13\n",
    "    m_32 = m_13\n",
    "    m_33 = P - nn**2 *(math.sin(theta_rad)**2)\n",
    "    \n",
    "    D_0 = Matrix([[m_11,m_12,m_13],[m_21,m_22,m_23],[m_31,m_32,m_33]])\n",
    "    return D_0\n",
    "    \n",
    "    \n",
    "\n",
    "    \n",
    "            \n",
    "                       "
   ]
  },
  {
   "cell_type": "code",
   "execution_count": 4,
   "metadata": {},
   "outputs": [
    {
     "name": "stdout",
     "output_type": "stream",
     "text": [
      "2.29914883571303e+18*k**6 - 1582699549195.52*k**4*(229.512561771779 - 5084364.19855294*k**2) - 1582699549195.52*k**4*(-5084364.19855294*k**2 - 186.185317011921) - 527566516398.508*k**4*(-726337.74265042*k**2 - 1028.38235259045) + (229.512561771779 - 5084364.19855294*k**2)*(-5084364.19855294*k**2 - 186.185317011921)*(-726337.74265042*k**2 - 1028.38235259045)\n"
     ]
    }
   ],
   "source": [
    "D_0 = dispersion_order0(L.value,R.value,P.value,nn,30)\n",
    "print(D_0.det())"
   ]
  },
  {
   "cell_type": "code",
   "execution_count": 7,
   "metadata": {},
   "outputs": [
    {
     "name": "stdout",
     "output_type": "stream",
     "text": [
      "-2.59504925591961e+16*k**4 + 257581652200.596*k**2 + 43944700.0465386\n",
      "[134.843561193262 134.843561193262 -106.005376271605 -106.005376271605]\n",
      "134.843561193262\n"
     ]
    }
   ],
   "source": [
    "# Solve the det(D_0) = 0\n",
    "print(simplify(D_0.det()))\n",
    "kk = solve(simplify(D_0.det()))\n",
    "nn_solve = kk* k_unit\n",
    "\n",
    "print(nn_solve*nn_solve)\n",
    "n_solve_square = max(nn_solve*nn_solve)\n",
    "print(n_solve_square)"
   ]
  },
  {
   "cell_type": "code",
   "execution_count": 55,
   "metadata": {
    "scrolled": true
   },
   "outputs": [
    {
     "data": {
      "image/png": "[encoded data removed]",
      "text/plain": [
       "<Figure size 432x288 with 1 Axes>"
      ]
     },
     "metadata": {
      "needs_background": "light"
     },
     "output_type": "display_data"
    }
   ],
   "source": [
    "# test for Bessel\n",
    "x = np.linspace(0,10,500)\n",
    "y_0 = spl.jv(0,x)\n",
    "y_3 = spl.jv(10,x)\n",
    "plt.plot(x,y_0,x,y_3,'-')\n",
    "plt.show()\n",
    "\n",
    "\n"
   ]
  },
  {
   "cell_type": "code",
   "execution_count": 22,
   "metadata": {},
   "outputs": [
    {
     "name": "stdout",
     "output_type": "stream",
     "text": [
      "1.870907718012115e-05 s / m\n",
      "Integral value for p: 1.9999999999999998\n",
      "Integral value for e: 1.9999999999997573\n"
     ]
    },
    {
     "data": {
      "text/plain": [
       "<matplotlib.legend.Legend at 0x1c9c5cd5470>"
      ]
     },
     "execution_count": 22,
     "metadata": {},
     "output_type": "execute_result"
    },
    {
     "data": {
      "image/png": "[encoded data removed]",
      "text/plain": [
       "<Figure size 432x288 with 1 Axes>"
      ]
     },
     "metadata": {
      "needs_background": "light"
     },
     "output_type": "display_data"
    }
   ],
   "source": [
    "# Test of distribution functions\n",
    "# Bi-Maxwellian distribution\n",
    "import numpy as np\n",
    "from astropy import units as u\n",
    "import plasmapy\n",
    "import matplotlib.pyplot as plt\n",
    "from plasmapy.constants import (m_p, m_e, c, mu0, k_B, e, eps0, pi, e)\n",
    "\n",
    "from plasmapy.physics.distribution import Maxwellian_speed_1D\n",
    "\n",
    "from astropy.visualization import quantity_support\n",
    "quantity_support()\n",
    "\n",
    "speed = Maxwellian_speed_1D(v=1 * u.m / u.s,\n",
    "                       T=30 * u.K,\n",
    "                       particle='e',\n",
    "                       v_drift=0 * u.m / u.s)\n",
    "print(p_dens)\n",
    "\n",
    "T = 3e4 * u.K\n",
    "dv = 10 * u.m / u.s\n",
    "v = np.arange(-5e6, 5e6, 10) * u.m / u.s\n",
    "\n",
    "\n",
    "for particle in ['p', 'e']:\n",
    "    pdf = Maxwellian_speed_1D(v, T=T, particle=particle)\n",
    "    integral = (pdf).sum() * dv\n",
    "    print(f\"Integral value for {particle}: {integral}\")\n",
    "    plt.plot(v, pdf, label=particle)\n",
    "plt.legend()\n",
    "# def bi_maxwellian distribution"
   ]
  },
  {
   "cell_type": "code",
   "execution_count": null,
   "metadata": {},
   "outputs": [],
   "source": [
    "# test the range of k_parall"
   ]
  },
  {
   "cell_type": "code",
   "execution_count": null,
   "metadata": {},
   "outputs": [],
   "source": [
    "L,R,P = cold_plasma_permittivity_LRP(B,species, n , frequency_wave)\n",
    "B_new = "
   ]
  },
  {
   "cell_type": "code",
   "execution_count": 58,
   "metadata": {},
   "outputs": [
    {
     "name": "stdout",
     "output_type": "stream",
     "text": [
      "94247.7796076938\n"
     ]
    }
   ],
   "source": [
    "omega_ce  = 15000 *math.pi *2\n",
    "print(omega_ce)"
   ]
  },
  {
   "cell_type": "code",
   "execution_count": 64,
   "metadata": {},
   "outputs": [
    {
     "name": "stdout",
     "output_type": "stream",
     "text": [
      "5.354987477709875e-07\n"
     ]
    }
   ],
   "source": [
    "B_new =1 *10**-4*omega_ce/(1.76*10**7)\n",
    "print(B_new)"
   ]
  },
  {
   "cell_type": "code",
   "execution_count": 65,
   "metadata": {},
   "outputs": [],
   "source": [
    "B_new = B_new*u.T"
   ]
  },
  {
   "cell_type": "code",
   "execution_count": 136,
   "metadata": {},
   "outputs": [
    {
     "name": "stdout",
     "output_type": "stream",
     "text": [
      "94184.59201934762 rad / s\n",
      "51.29453196638421 rad / s\n"
     ]
    }
   ],
   "source": [
    "pro_gyrofrequency = parameters.gyrofrequency(B_new,'p')\n",
    "ele_gyrofrequency = parameters.gyrofrequency(B_new,'e')\n",
    "print(ele_gyrofrequency)\n",
    "print(pro_gyrofrequency)"
   ]
  },
  {
   "cell_type": "code",
   "execution_count": 139,
   "metadata": {},
   "outputs": [
    {
     "name": "stdout",
     "output_type": "stream",
     "text": [
      "13179.935681227169\n",
      "2944.406184453979 rad / s\n"
     ]
    }
   ],
   "source": [
    "omega_13 = 0.5 * pro_gyrofrequency\n",
    "B_13 = B_new\n",
    "species_13 = ['e','p']\n",
    "n_13 = [10e6 *u.m**-3,10e6 *u.m**-3]\n",
    "L_13,R_13,P_13 = cold_plasma_permittivity_LRP(B_13,species_13, n_13 , omega_13)\n",
    "print(L_13)\n",
    "kc = L_13**0.5*omega_13\n",
    "print(kc)\n"
   ]
  },
  {
   "cell_type": "code",
   "execution_count": 140,
   "metadata": {},
   "outputs": [
    {
     "name": "stdout",
     "output_type": "stream",
     "text": [
      "[32.2843395933125]\n"
     ]
    }
   ],
   "source": [
    "from scipy.optimize import fsolve\n",
    "\n",
    "a = solve((1 - x**-2)**0.5 -(omega_13.value + (ele_gyrofrequency.value/x))/kc.value )\n",
    "print(a)\n"
   ]
  },
  {
   "cell_type": "code",
   "execution_count": 149,
   "metadata": {},
   "outputs": [],
   "source": [
    "def B_L(L):\n",
    "    B_L = (0.3e-4/(L**3) )* u.T\n",
    "    return B_L"
   ]
  },
  {
   "cell_type": "code",
   "execution_count": 173,
   "metadata": {},
   "outputs": [
    {
     "name": "stdout",
     "output_type": "stream",
     "text": [
      "184003.83930340348 rad / s\n",
      "[1.09144460613810]\n",
      "v, 20474046.350771025 m / s\n",
      "E_Landau(kev) 1.191763614213011\n",
      "E_res(kev) 46.7281937365713\n"
     ]
    }
   ],
   "source": [
    "omega_14 = 2000*2*math.pi*u.rad/u.s\n",
    "B_14 = B_L(6)\n",
    "species_14 = ['e','p']\n",
    "n_14 = [10e6 *u.m**-3,10e6 *u.m**-3]\n",
    "L_14,R_14,P_14 = cold_plasma_permittivity_LRP(B_14,species_14, n_14 , omega_14)\n",
    "kc_14 = R_14**0.5*omega_14\n",
    "a = solve((1 - x**-2)**0.5 +(omega_14.value - (ele_gyrofrequency.value/x))/kc_14.value )\n",
    "print(kc_14)\n",
    "\n",
    "print(a)\n",
    "v = omega_14*const.c/ kc_14\n",
    "print(\"v,\",v)\n",
    "E_landau = (9.10938356e-31/2) * v.value**2 *6.242e15\n",
    "print(\"E_Landau(kev)\",E_landau)\n",
    "E_res = (a[0] - 1) *511\n",
    "print(\"E_res(kev)\",E_res)"
   ]
  },
  {
   "cell_type": "code",
   "execution_count": 165,
   "metadata": {},
   "outputs": [
    {
     "data": {
      "text/plain": [
       "7.742661741695397"
      ]
     },
     "execution_count": 165,
     "metadata": {},
     "output_type": "execute_result"
    }
   ],
   "source": [
    "(1.01515197992504 - 1 )*511"
   ]
  },
  {
   "cell_type": "code",
   "execution_count": null,
   "metadata": {},
   "outputs": [],
   "source": []
  }
 ],
 "metadata": {
  "kernelspec": {
   "display_name": "Python 3",
   "language": "python",
   "name": "python3"
  },
  "language_info": {
   "codemirror_mode": {
    "name": "ipython",
    "version": 3
   },
   "file_extension": ".py",
   "mimetype": "text/x-python",
   "name": "python",
   "nbconvert_exporter": "python",
   "pygments_lexer": "ipython3",
   "version": "3.7.3"
  }
 },
 "nbformat": 4,
 "nbformat_minor": 4
}
